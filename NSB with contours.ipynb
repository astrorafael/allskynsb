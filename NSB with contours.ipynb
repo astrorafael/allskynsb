{
 "cells": [
  {
   "cell_type": "markdown",
   "id": "796b9bbc-e6e9-4239-ac77-2c62847fb1e3",
   "metadata": {},
   "source": [
    "# NSB with contours"
   ]
  },
  {
   "cell_type": "markdown",
   "id": "110583f9-34da-44d7-8f7b-dc3d2627489d",
   "metadata": {},
   "source": [
    "This notebook contains the essentisla to plot the night sky brighntess from an image.\n",
    "The beginning of this notenook will contain the essential librarires an input data needed.\n",
    "The aim is to clearly show how to do it and avoid exploratory code."
   ]
  },
  {
   "cell_type": "markdown",
   "id": "dafd6f6b-273e-4c09-b5c9-a16bce5cbcdf",
   "metadata": {},
   "source": [
    "## Python libraries"
   ]
  },
  {
   "cell_type": "code",
   "execution_count": 1,
   "id": "c1502b19-9de4-4dbb-96a7-dca158f83da3",
   "metadata": {},
   "outputs": [],
   "source": [
    "# -------------------------\n",
    "# Standard Python libraries\n",
    "# -------------------------\n",
    "\n",
    "import os\n",
    "from enum import Enum\n",
    "from fractions import Fraction\n",
    "\n",
    "# ---------------------\n",
    "# Third party libraries\n",
    "# ---------------------\n",
    "import matplotlib.pyplot as plt\n",
    "import matplotlib.colors as mcolors\n",
    "from matplotlib.colors import LinearSegmentedColormap\n",
    "\n",
    "import exifread\n",
    "import numpy as np\n",
    "import numpy.ma as ma\n",
    "import astropy.units as u\n",
    "from astropy.io import fits\n",
    "\n",
    "from astropy.table import Table\n",
    "from scipy.ndimage import gaussian_filter, median_filter, uniform_filter"
   ]
  },
  {
   "cell_type": "markdown",
   "id": "461cb17b-f087-4e3c-bb05-85ef421bbb83",
   "metadata": {},
   "source": [
    "## Auxiliar functions"
   ]
  },
  {
   "cell_type": "code",
   "execution_count": 2,
   "id": "75a40815-95e1-466d-8dc3-3e3087dc93ac",
   "metadata": {},
   "outputs": [],
   "source": [
    "class Magnitude(float, Enum):\n",
    "    SUPER_BRIGHT = 8.0\n",
    "    BRIGHT = 10\n",
    "    MODERATE = 17\n",
    "    MEDIUM_DARK = 18.6\n",
    "    SUPER_DARK = 22.0\n",
    "    BLACK = 24.0\n",
    "    \n",
    "def nixnox_colormap(split_level: int =192) -> LinearSegmentedColormap:\n",
    "    \"\"\"make a 256 point combined colormap from reversed viridis and YlOrRd\"\"\"\n",
    "    assert 0 < split_level < 256\n",
    "    colors2 = plt.cm.viridis_r(np.linspace(0, 1, split_level))\n",
    "    colors1 = plt.cm.YlOrRd_r(np.linspace(0, 1, 256 - split_level))\n",
    "    colors = np.vstack((colors1, colors2))\n",
    "    return mcolors.LinearSegmentedColormap.from_list(\"nixnos_cmap\", colors)\n",
    "\n",
    "def plot_magnitudes(image, nixnox, min_mag=Magnitude.MODERATE, max_mag=Magnitude.SUPER_DARK, xmin=450, xmax=2650, fsize=14):\n",
    "    fig, ax = plt.subplots(ncols=1,figsize=(8,6),dpi=150)\n",
    "    im = ax.imshow(image,cmap=nixnox, vmin=min_mag, vmax=max_mag)\n",
    "    ax.set_xlabel('u [pixel]',fontdict={'size':fsize})\n",
    "    ax.set_ylabel('v [pixel]',fontdict={'size':fsize})\n",
    "    cbar = fig.colorbar(im, shrink=0.99, ax=ax)\n",
    "    cbar.set_label('G Brightness [mag/arcsec$^2$]',fontdict={'size':fsize}) \n",
    "    cbar.ax.tick_params(labelsize=14)\n",
    "    plt.xticks(size=fsize)\n",
    "    plt.yticks(size=fsize)\n",
    "    plt.xlim(xmin,xmax)\n",
    "\n",
    "def plot_contours(image, cmap, min_mag=Magnitude.MODERATE, max_mag=Magnitude.SUPER_DARK, xmin=450, xmax=2650, fsize=14):\n",
    "    nticks=6\n",
    "    cb_ticks = np.round(np.linspace(min_mag, max_mag, num=nticks, endpoint=True), 1)\n",
    "    fig, ax = plt.subplots(ncols=1,figsize=(8,6),dpi=150)\n",
    "    #im = ax.imshow(NSB_filt,cmap=nixnox, vmin=20, vmax=22)\n",
    "    ax.set_xlabel('u [pixel]',fontdict={'size':fsize})\n",
    "    ax.set_ylabel('v [pixel]',fontdict={'size':fsize})\n",
    "    cax = ax.contourf(image,\n",
    "                cmap=cmap,\n",
    "                vmin=min_mag,\n",
    "                vmax=max_mag,\n",
    "                levels=[20,20.5,21,21.5,22],\n",
    "    )\n",
    "    cax = ax.contour(image,\n",
    "                cmap=cmap,\n",
    "                vmin=min_mag,\n",
    "                vmax=max_mag,\n",
    "                levels=[20,20.5,21,21.5,22],\n",
    "                linewidths=2\n",
    "    )\n",
    "    ax.clabel(cax,colors=\"w\",inline=True,fmt=\"%1.1f\",rightside_up=True,fontsize=\"medium\")\n",
    "    cb = fig.colorbar(cax, orientation=\"vertical\", shrink=0.99, ticks=cb_ticks, pad=0.08)\n",
    "    cb.set_label(\"Sky Brightness [mag/arcsec$^2$]\", fontsize=fsize)\n",
    "    cb.ax.tick_params(labelsize=12)\n",
    "    plt.xticks(size=fsize)\n",
    "    plt.yticks(size=fsize)\n",
    "    plt.xlim(450,2650)"
   ]
  },
  {
   "cell_type": "markdown",
   "id": "866f593f-4379-424a-a37d-265a785af7b1",
   "metadata": {},
   "source": [
    "## Input data and constants"
   ]
  },
  {
   "cell_type": "markdown",
   "id": "42d30b7f-b626-4543-920d-dfc3050fddef",
   "metadata": {},
   "source": [
    "### Input Path\n",
    "The sample image - made by Rémi Boucher - was located in Pic du Midi Observatory (France). \n",
    "This is a RAW format image."
   ]
  },
  {
   "cell_type": "code",
   "execution_count": 3,
   "id": "1f2692fc-f197-4605-862a-0ae76931ce11",
   "metadata": {},
   "outputs": [],
   "source": [
    "SAMPLE_IMAGE = 'IMG_9467.CR2'\n",
    "ipath   = os.path.join(os.getcwd(), \"images\", \"remi\")\n",
    "ifile = os.path.join(ipath, SAMPLE_IMAGE) "
   ]
  },
  {
   "cell_type": "markdown",
   "id": "2419cedc-f4b4-4115-a8a3-ac9bc76cbedc",
   "metadata": {},
   "source": [
    "### Escale factor area in pixels to area in arcsec2\n",
    "For the current image, the plate are scale in ${arsec}^2$ is"
   ]
  },
  {
   "cell_type": "code",
   "execution_count": 4,
   "id": "57255d46-d53e-42f3-bc7b-28c3af5618e3",
   "metadata": {},
   "outputs": [],
   "source": [
    "DOMEGA = 57758.36824261549"
   ]
  },
  {
   "cell_type": "markdown",
   "id": "5e9fd340-33c1-4641-8e4d-662c138da43c",
   "metadata": {},
   "source": [
    "### Zero points"
   ]
  },
  {
   "cell_type": "markdown",
   "id": "abf9fb7f-7fcc-412b-9658-38355abb7048",
   "metadata": {},
   "source": [
    "From the photometry notebook, we have determined the following photemtry zero points per channel"
   ]
  },
  {
   "cell_type": "code",
   "execution_count": 5,
   "id": "2e664f3c-2110-4807-9b39-e08b77c14b38",
   "metadata": {},
   "outputs": [],
   "source": [
    "ZP_B = 10.93\n",
    "ZP_G = 11.11\n",
    "ZP_R = 10.0"
   ]
  },
  {
   "cell_type": "markdown",
   "id": "b1b70527-3cfe-4bab-bf1a-bb19ab4d6151",
   "metadata": {},
   "source": [
    "### Exposure time\n",
    "We obtaion the exposure time in seconds from the EXIF metadata in the original image"
   ]
  },
  {
   "cell_type": "code",
   "execution_count": 6,
   "id": "3e5467f3-00dc-452c-a4df-d381587db9c6",
   "metadata": {},
   "outputs": [],
   "source": [
    "with open(ifile, 'rb') as f:\n",
    "    exif_tags = exifread.process_file(f)\n",
    "T_EXPO = float(Fraction(str(exif_tags.get('EXIF ExposureTime'))))"
   ]
  },
  {
   "cell_type": "markdown",
   "id": "f08fe203-f661-44a7-8bb0-77909e2e5097",
   "metadata": {},
   "source": [
    "### Input Pixels\n",
    "We already have the `IMG_9467_G2_corr.fits` vigneting corrected FITS file"
   ]
  },
  {
   "cell_type": "code",
   "execution_count": 7,
   "id": "d2c86ece-fae9-4d24-bad5-eace5ce42aa8",
   "metadata": {},
   "outputs": [],
   "source": [
    "filename = ifile.replace('.CR2','_G2_corr.fits')\n",
    "G2_PIX  = fits.getdata(filename)\n",
    "G2_PIX = ma.masked_array(G2_PIX, mask=[G2_PIX == 0])"
   ]
  },
  {
   "cell_type": "markdown",
   "id": "443b4c05-3a93-4b47-9f22-69e6b55e4670",
   "metadata": {},
   "source": [
    "### Night Sky Brightness map\n",
    "Since we have the exposure time `T_EXPO`, the pixel values in DN `G2_PIX`, the zero point corresponding to the desired channel `ZP_G` and the pixel area scale `DOMEGA`, we can transfrom the image from its brighnets value in DN to a magnitude scale in $mag/{arcsec}²$ \n",
    "\n",
    "The quick here resides of the corrected image, whose pixels out of the fisheye lens have been set to zero. This poses a problem when computing magnitudes. The solution is to use a masked array and perform a masked ${log}_{10}$ function."
   ]
  },
  {
   "cell_type": "code",
   "execution_count": 8,
   "id": "1f47a199-4b55-4b59-803b-0e8165abcd39",
   "metadata": {},
   "outputs": [],
   "source": [
    "NSB = ZP_G - 2.5*np.ma.log10(G2_PIX/(DOMEGA*T_EXPO))"
   ]
  },
  {
   "cell_type": "markdown",
   "id": "d38a3bd0-698b-4d9c-add6-4ebed8d0a022",
   "metadata": {},
   "source": [
    "## Plotting the Night Sky Brightness map"
   ]
  },
  {
   "cell_type": "code",
   "execution_count": 9,
   "id": "b1ee15e4-f769-4682-abc6-04ebaa8074c8",
   "metadata": {},
   "outputs": [
    {
     "ename": "NameError",
     "evalue": "name 'magnitude' is not defined",
     "output_type": "error",
     "traceback": [
      "\u001b[31m---------------------------------------------------------------------------\u001b[39m",
      "\u001b[31mNameError\u001b[39m                                 Traceback (most recent call last)",
      "\u001b[36mCell\u001b[39m\u001b[36m \u001b[39m\u001b[32mIn[9]\u001b[39m\u001b[32m, line 4\u001b[39m\n\u001b[32m      1\u001b[39m nixnox = nixnox_colormap()\n\u001b[32m      2\u001b[39m \u001b[38;5;66;03m#NSB_filt = gaussian_filter(NSB, sigma=5,  radius=500, mode=\"constant\", cval=16)\u001b[39;00m\n\u001b[32m      3\u001b[39m \u001b[38;5;66;03m#NSB_filt = median_filter(NSB, size=(11,11), mode=\"constant\", cval=16)\u001b[39;00m\n\u001b[32m----> \u001b[39m\u001b[32m4\u001b[39m NSB_filt = uniform_filter(NSB, size=(\u001b[32m25\u001b[39m,\u001b[32m25\u001b[39m), mode=\u001b[33m\"\u001b[39m\u001b[33mconstant\u001b[39m\u001b[33m\"\u001b[39m, cval=\u001b[43mmagnitude\u001b[49m.MODERATE)\n\u001b[32m      5\u001b[39m plot_magnitudes(NSB, nixnox)\n\u001b[32m      6\u001b[39m plot_magnitudes(NSB_filt,nixnox)\n",
      "\u001b[31mNameError\u001b[39m: name 'magnitude' is not defined"
     ]
    }
   ],
   "source": [
    "nixnox = nixnox_colormap()\n",
    "#NSB_filt = gaussian_filter(NSB, sigma=5,  radius=500, mode=\"constant\", cval=16)\n",
    "#NSB_filt = median_filter(NSB, size=(11,11), mode=\"constant\", cval=16)\n",
    "NSB_filt = uniform_filter(NSB, size=(25,25), mode=\"constant\", cval=magnitude.MODERATE)\n",
    "plot_magnitudes(NSB, nixnox)\n",
    "plot_magnitudes(NSB_filt,nixnox)"
   ]
  },
  {
   "cell_type": "code",
   "execution_count": null,
   "id": "a7f41135-199a-41ef-b694-f4c3ca56256b",
   "metadata": {},
   "outputs": [],
   "source": [
    "plot_contours(NSB, nixnox)\n"
   ]
  },
  {
   "cell_type": "code",
   "execution_count": null,
   "id": "e5377cef-166b-4f61-832e-f37b21de6fcd",
   "metadata": {},
   "outputs": [],
   "source": []
  }
 ],
 "metadata": {
  "kernelspec": {
   "display_name": "Python 3 (ipykernel)",
   "language": "python",
   "name": "python3"
  },
  "language_info": {
   "codemirror_mode": {
    "name": "ipython",
    "version": 3
   },
   "file_extension": ".py",
   "mimetype": "text/x-python",
   "name": "python",
   "nbconvert_exporter": "python",
   "pygments_lexer": "ipython3",
   "version": "3.12.3"
  }
 },
 "nbformat": 4,
 "nbformat_minor": 5
}
